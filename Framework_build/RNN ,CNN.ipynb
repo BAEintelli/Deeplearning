{
 "cells": [
  {
   "cell_type": "code",
   "execution_count": 44,
   "metadata": {},
   "outputs": [],
   "source": [
    "from dezero import Model\n",
    "import dezero.functions as F\n",
    "import dezero.layers as L\n"
   ]
  },
  {
   "cell_type": "code",
   "execution_count": 58,
   "metadata": {},
   "outputs": [],
   "source": [
    "from  dezero.core import *"
   ]
  },
  {
   "cell_type": "code",
   "execution_count": 30,
   "metadata": {},
   "outputs": [],
   "source": [
    "from dezero.layers import Layer"
   ]
  },
  {
   "cell_type": "code",
   "execution_count": 31,
   "metadata": {},
   "outputs": [],
   "source": [
    "class RNN(Layer):\n",
    "    def __init__(self, hidden_size, in_size=None):\n",
    "        super().__init__()\n",
    "        self.x2h = Linear(hidden_size, in_size=in_size)\n",
    "        self.h2h = Linear(hidden_size, in_size=in_size, nobias = True)\n",
    "        self.h = None\n",
    "        \n",
    "        \n",
    "    def reset_state(self):\n",
    "        self.h = None\n",
    "        \n",
    "    def forward(self, x):\n",
    "        if self.h is None:\n",
    "            h_new = F.tanh(self.x2h(x))\n",
    "            \n",
    "        else:\n",
    "            h_new = F.tanh(self.x2h(x) + self.h2h(self.h))\n",
    "            \n",
    "        self.h = h_new\n",
    "        return h_new\n",
    "    "
   ]
  },
  {
   "cell_type": "code",
   "execution_count": 32,
   "metadata": {},
   "outputs": [],
   "source": [
    "class SimpleRNN(Model):\n",
    "    def __init__(self, hidden_size, out_size):\n",
    "        super().__init__()\n",
    "        self.rnn = L.RNN(hidden_size)\n",
    "        self.fc = L.Linear(out_size)\n",
    "    \n",
    "    def reset_state(self):\n",
    "        self.rnn.reset_state()\n",
    "        \n",
    "    def forward(self, x):\n",
    "        h = self.rnn(x)\n",
    "        y = self.fc(h)\n",
    "        return y\n",
    "    \n"
   ]
  },
  {
   "cell_type": "code",
   "execution_count": 33,
   "metadata": {},
   "outputs": [],
   "source": [
    "seq_data = [np.random.randn(1,1) for _ in range(1000)] # 더미 데이터\n",
    "xs = seq_data[0:-1]\n",
    "ts = seq_data[1:]\n",
    "\n",
    "model = SimpleRNN(10,1)\n",
    "\n",
    "loss, cnt = 0, 0\n",
    "for x ,t in zip(xs, ts):\n",
    "    y = model(x)\n",
    "    loss += F.mean_squared_error(y,t)\n",
    "    \n",
    "    cnt += 1\n",
    "    \n",
    "    if  cnt ==2: # 입력 두개째에서 끊어 버리기 위해서 TBPTT\n",
    "        model.cleargrads()\n",
    "        loss.backward()\n",
    "        break"
   ]
  },
  {
   "cell_type": "markdown",
   "metadata": {},
   "source": [
    "- 앞의 코드의 cnt = 2 입력 데이터를 끊어주기 위한 장치 입니다. \n",
    "\n",
    "- 물론 입력 데이터는 10, , 100개든 원하는 만큼 제공할 수 있습니다. 몇 개가 입력되든 계산 그래프는 문제없이 계속 길게 뻗어갑니다. 하지만 역전파를 잘하려면 계산 그래프를 적당한 길이에서 끊어 줘야 합니다. 이것이  Truncated BPTT  입니다. "
   ]
  },
  {
   "cell_type": "code",
   "execution_count": null,
   "metadata": {},
   "outputs": [],
   "source": []
  },
  {
   "cell_type": "code",
   "execution_count": null,
   "metadata": {},
   "outputs": [],
   "source": []
  },
  {
   "cell_type": "markdown",
   "metadata": {},
   "source": [
    "- 완전 연결 Affine 계층\n",
    "- cnn 에서는 풀링 계층이 추가 됩니다. 'Conv-ReLU-(Pooling)'흐름으로 연결됩니다.\n"
   ]
  },
  {
   "cell_type": "code",
   "execution_count": null,
   "metadata": {},
   "outputs": [],
   "source": [
    "- 완전 계층의 문제점\n",
    " - 데이터의 형상이 무시됨.\n",
    "- 완전 계층을 시킨다면 이미지의 경우 3차원 데이터를 평평한 1차원 데이터로 바꿔줘야 합니다. \n",
    "\n",
    "- 이미지는 3차원 형상이며, 이 형사에는 소중한 공간적 정보가 담겨 있습니다. 예를 들어 공간적으로 가까운 픽셀은 값이 비슷하거나,\n",
    "- 거리가 먼 픽셀끼리는 별 연관이 없는 등, 3차원 속에서 의미를 갖는 본질적ㅇ니 패턴이 숨어 있을 겁니다."
   ]
  },
  {
   "cell_type": "code",
   "execution_count": 40,
   "metadata": {},
   "outputs": [
    {
     "name": "stdout",
     "output_type": "stream",
     "text": [
      "(9, 75)\n",
      "(90, 75)\n"
     ]
    }
   ],
   "source": [
    "import numpy as np\n",
    "import dezero.functions as F\n",
    "\n",
    "x1 = np.random.rand(1,3, 7,7)\n",
    "col1 = F.im2col(x1, kernel_size =5, stride=1, pad=0, to_matrix=True)\n",
    "print(col1.shape)\n",
    "\n",
    "x2 = np.random.rand(10,3, 7,7)\n",
    "kernel_size = (5,5) # int 5 와 같은것임\n",
    "stride= (1,1)\n",
    "pad = (0,0)\n",
    "col2 = F.im2col(x2, kernel_size, stride, pad, to_matrix=True)\n",
    "print(col2.shape)\n",
    "\n"
   ]
  },
  {
   "cell_type": "code",
   "execution_count": 41,
   "metadata": {},
   "outputs": [],
   "source": [
    "def pair(x):\n",
    "    if isinstance(x, int):\n",
    "        return (x,x)\n",
    "    elif isinstance(x, tuple):\n",
    "        assert len(x) == 2\n",
    "        return x\n",
    "    else:\n",
    "        raise ValueError\n",
    "        "
   ]
  },
  {
   "cell_type": "code",
   "execution_count": 54,
   "metadata": {},
   "outputs": [],
   "source": [
    "from dezero.utils import pair, get_conv_outsize\n",
    "\n",
    "def conv2d_simple(x, W, b=None, stride=1, pad=0):\n",
    "    x, W = as_variable(x), as_variable(W)\n",
    "    \n",
    "    Weight = W # width 의 W와 헷갈리지 않기 위해서\n",
    "    N, C, H, W = x.shape\n",
    "    SH, SW = pair(stride)\n",
    "    PH, PW = pair(pad)\n",
    "    OH = get_conv_outsize(H,KH,SH,PH)\n",
    "    OW = get_conv_outsize(W, KW, SW, PW)\n",
    "    \n",
    "    col = i2col(x, (KH,KW), stied, pad, to_matrix=True)\n",
    "    Weight = Weigh.reshape(OC, -1).transpose()\n",
    "    t = linear(col, Weight, b)\n",
    "    y = t.reshape(N, OH, OW, OC).transpose(0, 3, 1, 2)\n",
    "    return y"
   ]
  },
  {
   "cell_type": "code",
   "execution_count": 59,
   "metadata": {},
   "outputs": [
    {
     "name": "stdout",
     "output_type": "stream",
     "text": [
      "(1, 8, 15, 15)\n",
      "(1, 5, 15, 15)\n"
     ]
    }
   ],
   "source": [
    "N, C, H, W = 1, 5, 15, 15\n",
    "OC, (KH, KW) = 8, (3,3)\n",
    "\n",
    "x = Variable(np.random.randn(N,C,H,W))\n",
    "W = np.random.randn(OC, C, KH, KW)\n",
    "y = F.conv2d_simple(x, W, b=None, stride=1, pad=1)\n",
    "y.backward()\n",
    "\n",
    "print(y.shape)\n",
    "print(x.grad.shape)"
   ]
  },
  {
   "cell_type": "code",
   "execution_count": null,
   "metadata": {},
   "outputs": [],
   "source": []
  }
 ],
 "metadata": {
  "kernelspec": {
   "display_name": "Python 3",
   "language": "python",
   "name": "python3"
  },
  "language_info": {
   "codemirror_mode": {
    "name": "ipython",
    "version": 3
   },
   "file_extension": ".py",
   "mimetype": "text/x-python",
   "name": "python",
   "nbconvert_exporter": "python",
   "pygments_lexer": "ipython3",
   "version": "3.7.4"
  }
 },
 "nbformat": 4,
 "nbformat_minor": 2
}
