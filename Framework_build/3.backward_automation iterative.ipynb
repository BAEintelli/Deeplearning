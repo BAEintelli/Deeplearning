{
 "cells": [
  {
   "cell_type": "markdown",
   "metadata": {},
   "source": [
    "## 재귀를 반복문으로 구현"
   ]
  },
  {
   "cell_type": "code",
   "execution_count": 12,
   "metadata": {},
   "outputs": [],
   "source": [
    "class Variable:\n",
    "    \n",
    "    def __init__(self, data):\n",
    "        self.data = data\n",
    "        self.grad = None\n",
    "        self.creator = None\n",
    "        \n",
    "    def set_creator(self, func):\n",
    "        self.creator = func\n",
    "    \n",
    "    def backward(self):\n",
    "        funcs = [self.creator]\n",
    "        while funcs:\n",
    "            f = funcs.pop()\n",
    "            x, y = f.input, f.output\n",
    "            x.grad = f.backward(y.grad)\n",
    "            \n",
    "            if x.creator is not None:\n",
    "                funcs.append(x.creator)\n",
    "                "
   ]
  },
  {
   "cell_type": "code",
   "execution_count": 17,
   "metadata": {},
   "outputs": [],
   "source": [
    "class Function:\n",
    "    def __call__(self, input):\n",
    "        x = input.data\n",
    "        y = self.forward(x)\n",
    "        output = Variable(y)\n",
    "        output.set_creator(self)\n",
    "        self.input = input\n",
    "        self.output = output\n",
    "        return output\n",
    "\n",
    "    \n",
    "\n",
    "class Square(Function):\n",
    "    def forward(self, input):\n",
    "        x = input **2\n",
    "        return x\n",
    "    \n",
    "    def backward(self, gy):\n",
    "        x = self.input.data\n",
    "        gx = 2 * x * gy\n",
    "        return gx\n",
    "\n",
    "    \n",
    "class Exp(Function):\n",
    "    def forward(self, x):\n",
    "        y = np.exp(x)\n",
    "        return y\n",
    "    \n",
    "    def backward(self, gy):\n",
    "        x = self.input.data\n",
    "        gx = np.exp(x) * gy\n",
    "        return gx\n",
    "\n",
    "    \n"
   ]
  },
  {
   "cell_type": "code",
   "execution_count": 18,
   "metadata": {},
   "outputs": [
    {
     "name": "stdout",
     "output_type": "stream",
     "text": [
      "<__main__.Square object at 0x000002178C2B1188>\n",
      "<__main__.Exp object at 0x000002178C2B1DC8>\n",
      "<__main__.Square object at 0x000002178C2B1608>\n",
      "3.297442541400256\n"
     ]
    }
   ],
   "source": [
    "A = Square()\n",
    "B = Exp()\n",
    "C = Square()\n",
    "\n",
    "x = Variable(np.array(0.5))\n",
    "a = A(x)\n",
    "b = B(a)\n",
    "y = C(b)\n",
    "\n",
    "y.grad = np.array(1.0) # 자기자신을 미분한게 1이기 때문에\n",
    "y.backward()\n",
    "print(x.grad)"
   ]
  },
  {
   "cell_type": "markdown",
   "metadata": {},
   "source": [
    "# 함수로 더편리하게 바꾸기"
   ]
  },
  {
   "cell_type": "code",
   "execution_count": 19,
   "metadata": {},
   "outputs": [],
   "source": [
    "def square(x):\n",
    "    return Square()(x)\n",
    "def exp(x):\n",
    "    return Exp()(x)"
   ]
  },
  {
   "cell_type": "code",
   "execution_count": 20,
   "metadata": {},
   "outputs": [
    {
     "name": "stdout",
     "output_type": "stream",
     "text": [
      "<__main__.Square object at 0x000002178C398E88>\n",
      "<__main__.Exp object at 0x000002178C398C88>\n",
      "<__main__.Square object at 0x000002178C39B148>\n",
      "3.297442541400256\n"
     ]
    }
   ],
   "source": [
    "x = Variable(np.array(0.5))\n",
    "a = square(x)\n",
    "b = exp(a)\n",
    "y = square(b)\n",
    "\n",
    "y.grad = np.array(1.0)\n",
    "y.backward()\n",
    "print(x.grad)"
   ]
  },
  {
   "cell_type": "code",
   "execution_count": 25,
   "metadata": {},
   "outputs": [
    {
     "name": "stdout",
     "output_type": "stream",
     "text": [
      "1\n",
      "[1 1 1]\n"
     ]
    }
   ],
   "source": [
    "# np.ones_like를 사용하게 되면 배열을 전부 1로 치환 해줌\n",
    "print(np.ones_like(8))\n",
    "\n",
    "print(np.ones_like([133,6,7]))"
   ]
  },
  {
   "cell_type": "code",
   "execution_count": 26,
   "metadata": {},
   "outputs": [],
   "source": [
    "# 항상 치던 y.grad = np.array(1.0)을  안치도록\n",
    "class Variable:\n",
    "    \n",
    "    def __init__(self, data):\n",
    "        self.data = data\n",
    "        self.grad = None\n",
    "        self.creator = None\n",
    "        \n",
    "    def set_creator(self, func):\n",
    "        self.creator = func\n",
    "    \n",
    "    def backward(self):\n",
    "        if self.grad is None:\n",
    "            self.grad = np.ones_like(self.data)\n",
    "        funcs = [self.creator]\n",
    "        while funcs:\n",
    "            f = funcs.pop()\n",
    "            x, y = f.input, f.output\n",
    "            x.grad = f.backward(y.grad)\n",
    "            \n",
    "            if x.creator is not None:\n",
    "                funcs.append(x.creator)"
   ]
  },
  {
   "cell_type": "code",
   "execution_count": 27,
   "metadata": {},
   "outputs": [
    {
     "name": "stdout",
     "output_type": "stream",
     "text": [
      "<__main__.Square object at 0x000002178C388AC8>\n",
      "<__main__.Exp object at 0x00000217FFEFEB48>\n",
      "<__main__.Square object at 0x000002178C879EC8>\n",
      "3.297442541400256\n"
     ]
    }
   ],
   "source": [
    "# 다시 테스트\n",
    "x = Variable(0.5)\n",
    "y = square(exp(square(x)))\n",
    "y.backward()\n",
    "print(x.grad)"
   ]
  },
  {
   "cell_type": "code",
   "execution_count": 28,
   "metadata": {},
   "outputs": [],
   "source": [
    "# ndarray 만 취급하기\n",
    "class Variable:\n",
    "    \n",
    "    def __init__(self, data):\n",
    "        if data is not None:\n",
    "            if not isinstance(data, np.ndarray):\n",
    "                raise TypeError(f'{type(data)} 는 지원하지 않습니다.')\n",
    "        self.data = data\n",
    "        self.grad = None\n",
    "        self.creator = None\n",
    "        "
   ]
  },
  {
   "cell_type": "code",
   "execution_count": 30,
   "metadata": {},
   "outputs": [],
   "source": [
    "x = Variable(np.array(1.0))\n",
    "x  = Variable(None)\n"
   ]
  },
  {
   "cell_type": "code",
   "execution_count": 31,
   "metadata": {},
   "outputs": [
    {
     "ename": "TypeError",
     "evalue": "<class 'int'> 는 지원하지 않습니다.",
     "output_type": "error",
     "traceback": [
      "\u001b[1;31m---------------------------------------------------------------------------\u001b[0m",
      "\u001b[1;31mTypeError\u001b[0m                                 Traceback (most recent call last)",
      "\u001b[1;32m<ipython-input-31-0032c35ed75e>\u001b[0m in \u001b[0;36m<module>\u001b[1;34m\u001b[0m\n\u001b[1;32m----> 1\u001b[1;33m \u001b[0mx\u001b[0m \u001b[1;33m=\u001b[0m \u001b[0mVariable\u001b[0m\u001b[1;33m(\u001b[0m\u001b[1;36m1\u001b[0m\u001b[1;33m)\u001b[0m\u001b[1;33m\u001b[0m\u001b[1;33m\u001b[0m\u001b[0m\n\u001b[0m",
      "\u001b[1;32m<ipython-input-28-ae092e19f429>\u001b[0m in \u001b[0;36m__init__\u001b[1;34m(self, data)\u001b[0m\n\u001b[0;32m      5\u001b[0m         \u001b[1;32mif\u001b[0m \u001b[0mdata\u001b[0m \u001b[1;32mis\u001b[0m \u001b[1;32mnot\u001b[0m \u001b[1;32mNone\u001b[0m\u001b[1;33m:\u001b[0m\u001b[1;33m\u001b[0m\u001b[1;33m\u001b[0m\u001b[0m\n\u001b[0;32m      6\u001b[0m             \u001b[1;32mif\u001b[0m \u001b[1;32mnot\u001b[0m \u001b[0misinstance\u001b[0m\u001b[1;33m(\u001b[0m\u001b[0mdata\u001b[0m\u001b[1;33m,\u001b[0m \u001b[0mnp\u001b[0m\u001b[1;33m.\u001b[0m\u001b[0mndarray\u001b[0m\u001b[1;33m)\u001b[0m\u001b[1;33m:\u001b[0m\u001b[1;33m\u001b[0m\u001b[1;33m\u001b[0m\u001b[0m\n\u001b[1;32m----> 7\u001b[1;33m                 \u001b[1;32mraise\u001b[0m \u001b[0mTypeError\u001b[0m\u001b[1;33m(\u001b[0m\u001b[1;34mf'{type(data)} 는 지원하지 않습니다.'\u001b[0m\u001b[1;33m)\u001b[0m\u001b[1;33m\u001b[0m\u001b[1;33m\u001b[0m\u001b[0m\n\u001b[0m\u001b[0;32m      8\u001b[0m         \u001b[0mself\u001b[0m\u001b[1;33m.\u001b[0m\u001b[0mdata\u001b[0m \u001b[1;33m=\u001b[0m \u001b[0mdata\u001b[0m\u001b[1;33m\u001b[0m\u001b[1;33m\u001b[0m\u001b[0m\n\u001b[0;32m      9\u001b[0m         \u001b[0mself\u001b[0m\u001b[1;33m.\u001b[0m\u001b[0mgrad\u001b[0m \u001b[1;33m=\u001b[0m \u001b[1;32mNone\u001b[0m\u001b[1;33m\u001b[0m\u001b[1;33m\u001b[0m\u001b[0m\n",
      "\u001b[1;31mTypeError\u001b[0m: <class 'int'> 는 지원하지 않습니다."
     ]
    }
   ],
   "source": [
    "x = Variable(1)"
   ]
  },
  {
   "cell_type": "code",
   "execution_count": null,
   "metadata": {},
   "outputs": [],
   "source": []
  },
  {
   "cell_type": "markdown",
   "metadata": {},
   "source": [
    "- 넘파이에 배열을 넣고 조작하면 output도 ndarray 이다\n"
   ]
  },
  {
   "cell_type": "code",
   "execution_count": 35,
   "metadata": {},
   "outputs": [
    {
     "name": "stdout",
     "output_type": "stream",
     "text": [
      "<class 'numpy.ndarray'>\n",
      "<class 'numpy.ndarray'>\n"
     ]
    }
   ],
   "source": [
    "x = np.array([1,1,1])\n",
    "print(type(x))\n",
    "y = x**2\n",
    "print(type(y))"
   ]
  },
  {
   "cell_type": "markdown",
   "metadata": {},
   "source": [
    "- 하지만, 배열이 0 차원일 때는 문제가 있다  ndarray 가 np.float 64 나 32 로 데이터 타입이 변하게 된다.\n"
   ]
  },
  {
   "cell_type": "code",
   "execution_count": 36,
   "metadata": {},
   "outputs": [
    {
     "name": "stdout",
     "output_type": "stream",
     "text": [
      "<class 'numpy.ndarray'> 0\n",
      "<class 'numpy.float64'>\n"
     ]
    }
   ],
   "source": [
    "x = np.array(1.0)\n",
    "y = x **2\n",
    "print(type(x), x.ndim)\n",
    "print(type(y))"
   ]
  },
  {
   "cell_type": "code",
   "execution_count": 37,
   "metadata": {},
   "outputs": [],
   "source": [
    "def as_array(x):\n",
    "    if np.isscalar(x):\n",
    "        return np.array((x))\n",
    "    return x"
   ]
  },
  {
   "cell_type": "code",
   "execution_count": 39,
   "metadata": {},
   "outputs": [
    {
     "data": {
      "text/plain": [
       "(True, False)"
      ]
     },
     "execution_count": 39,
     "metadata": {},
     "output_type": "execute_result"
    }
   ],
   "source": [
    "np.isscalar(np.float64(1.0)), np.isscalar(np.array([1,2,4]))"
   ]
  },
  {
   "cell_type": "code",
   "execution_count": 40,
   "metadata": {},
   "outputs": [],
   "source": [
    "class Function:\n",
    "    def __call__(self, input):\n",
    "        x = input.data\n",
    "        y = self.forward(x)\n",
    "        output = Variable(as_array(y))\n",
    "        output.set_creator(self)\n",
    "        self.input= input\n",
    "        self.output = output\n",
    "        return output"
   ]
  },
  {
   "cell_type": "code",
   "execution_count": null,
   "metadata": {},
   "outputs": [],
   "source": [
    " "
   ]
  }
 ],
 "metadata": {
  "kernelspec": {
   "display_name": "Python 3",
   "language": "python",
   "name": "python3"
  },
  "language_info": {
   "codemirror_mode": {
    "name": "ipython",
    "version": 3
   },
   "file_extension": ".py",
   "mimetype": "text/x-python",
   "name": "python",
   "nbconvert_exporter": "python",
   "pygments_lexer": "ipython3",
   "version": "3.7.4"
  }
 },
 "nbformat": 4,
 "nbformat_minor": 2
}
