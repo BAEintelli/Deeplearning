{
 "cells": [
  {
   "cell_type": "markdown",
   "metadata": {},
   "source": [
    "# Mul  클래스 구현"
   ]
  },
  {
   "cell_type": "code",
   "execution_count": 2,
   "metadata": {},
   "outputs": [],
   "source": [
    "\n",
    "class Variable:\n",
    "    def __init__(self, data, name =None):\n",
    "        \n",
    "        if data is not None:\n",
    "            if not isinstance(data, np.ndarray):\n",
    "                raise TypeError(f'{type(data)} 은(는) 지원하지 않습니다.')        \n",
    "                \n",
    "        self.data = data\n",
    "        self.name = name\n",
    "        self.grad = None\n",
    "        self.creator = None\n",
    "        self.generation = 0\n",
    "    \n",
    "    @property\n",
    "    def ndim(self):\n",
    "        return self.data.ndim\n",
    "    \n",
    "    @property\n",
    "    def size(self):\n",
    "        return self.data.size\n",
    "    \n",
    "    @property\n",
    "    def dtype(self):\n",
    "        return self.data.dtype\n",
    "    \n",
    "    @property\n",
    "    def shape(self):\n",
    "        return self.data.shape\n",
    "    \n",
    "    def __len__(self):\n",
    "        return len(self.data)\n",
    "    def __repr__(self):\n",
    "        if self.data is None:\n",
    "            return 'vairable(None)'\n",
    "        \n",
    "        p = str(self.data).replace('\\n', '\\n'+ ' '*9)\n",
    "        return 'variable(' + p + ')'\n",
    "\n",
    "    def set_creator(self, func):\n",
    "        self.creator = func\n",
    "        self.generation = func.generation + 1\n",
    "    \n",
    "    def backward(self, retain_grad = False):\n",
    "    \n",
    "        if self.grad is None:\n",
    "            self.grad = np.ones_like(self.data)\n",
    "            \n",
    "        funcs = []\n",
    "        seen_set = set()\n",
    "        \n",
    "        def add_func(f):\n",
    "            if  f not in seen_set:\n",
    "                funcs.append(f)\n",
    "                seen_set.add(f)\n",
    "                funcs.sort(key = lambda x : x.generation)\n",
    "                \n",
    "        add_func(self.creator)        \n",
    "        while funcs:\n",
    "            f = funcs.pop()\n",
    "            gys = [output().grad for output in f.outputs]\n",
    "            gxs = f.backward(*gys)\n",
    "            if not isinstance(gxs, tuple):\n",
    "                gxs = (gxs, )\n",
    "            \n",
    "            for x, gx in zip(f.inputs, gxs):\n",
    "                \n",
    "                if x.grad is None: \n",
    "                    x.grad = gx\n",
    "                    \n",
    "                else:\n",
    "                    x.grad = x.grad + gx\n",
    "                    \n",
    "                if x.creator is not None:\n",
    "                    add_func(x.creator)\n",
    "                    \n",
    "                    \n",
    "        \n",
    "            if not  retain_grad:\n",
    "                for y in f.outputs:\n",
    "                    y().grad = None #y 는 약한 참조(weakref)"
   ]
  },
  {
   "cell_type": "code",
   "execution_count": 36,
   "metadata": {},
   "outputs": [],
   "source": [
    "\n",
    "class Config:\n",
    "    enable_backprop = True\n",
    "    \n",
    "import weakref\n",
    "\n",
    "class Function(object):\n",
    "    def __call__(self, *inputs):\n",
    "        xs = [x.data for x in inputs]\n",
    "        ys = self.forward(*xs)\n",
    "        if not isinstance(ys, tuple):\n",
    "            ys = (ys,)\n",
    "        outputs = [Variable(as_array(y)) for y in ys]\n",
    "        # 추가 부분 ===================================================================================\n",
    "        if Config.enable_backprop: # config  데이터는 한 군데에만 존재하는게 좋기때문에 인스턴스화 하지 않고, 클래스 상태로 이용합니다.\n",
    "        # ===============================================================================================\n",
    "            self.generation = max([x.generation for x in inputs])\n",
    "            for output in outputs:\n",
    "                output.set_creator(self)\n",
    "\n",
    "            self.inputs = inputs\n",
    "            ## 수정 부분 ========================================================================================================\n",
    "            self.outputs = [weakref.ref(output) for output in outputs]\n",
    "            ## ==================================================================================================================\n",
    "        return  outputs if len(outputs) > 1 else outputs[0]"
   ]
  },
  {
   "cell_type": "code",
   "execution_count": 37,
   "metadata": {},
   "outputs": [],
   "source": [
    "class Square(Function):\n",
    "    def forward(self, x):\n",
    "        y = x**2\n",
    "        return y\n",
    "\n",
    "    def backward(self, gy):\n",
    "        \n",
    "        x = self.inputs[0].data\n",
    "        gx = 2 * x*gy\n",
    "        return gx\n",
    "    \n",
    "    \n",
    "\n",
    "def square(x):\n",
    "    return Square()(x)    \n",
    "    \n",
    "class Add(Function):\n",
    "    def forward(self, x0, x1):\n",
    "        y = x0 + x1\n",
    "        return y\n",
    "    def backward(self, gy):\n",
    "        return gy, gy\n",
    "    \n",
    "    \n",
    "def as_array(x):\n",
    "    if np.isscalar(x):\n",
    "        return np.array((x))\n",
    "    return x\n",
    "def add(x0, x1):\n",
    "    return Add()(x0, x1)"
   ]
  },
  {
   "cell_type": "code",
   "execution_count": 38,
   "metadata": {},
   "outputs": [],
   "source": [
    "class Mul(Function):\n",
    "    def forward(self, x0, x1):\n",
    "        y = x0 * x1\n",
    "        return y\n",
    "    \n",
    "    def backward(self, gy):\n",
    "        x0, x1  = self.inputs[0].data, self.inputs[1].data\n",
    "        return gy * x1 , gy * x0"
   ]
  },
  {
   "cell_type": "code",
   "execution_count": 39,
   "metadata": {},
   "outputs": [],
   "source": [
    "def mul(x0, x1):\n",
    "    return Mul()(x0, x1)"
   ]
  },
  {
   "cell_type": "code",
   "execution_count": 40,
   "metadata": {},
   "outputs": [
    {
     "name": "stdout",
     "output_type": "stream",
     "text": [
      "variable(7.0)\n",
      "2.0\n",
      "3.0\n"
     ]
    }
   ],
   "source": [
    "a = Variable(np.array(3.0))\n",
    "b = Variable(np.array(2.0))\n",
    "c = Variable(np.array(1.0))\n",
    "\n",
    "y = add(mul(a,b), c)\n",
    "\n",
    "y.backward()\n",
    "\n",
    "print(y)\n",
    "print(a.grad)\n",
    "print(b.grad)"
   ]
  },
  {
   "cell_type": "markdown",
   "metadata": {},
   "source": [
    "## 매번 위에 처럼 add(mul(a,b),c) 보다 a*b +c 가 더 편할것 같습니다."
   ]
  },
  {
   "cell_type": "code",
   "execution_count": 44,
   "metadata": {},
   "outputs": [],
   "source": [
    "\n",
    "class Variable:\n",
    "    def __init__(self, data, name =None):\n",
    "        \n",
    "        if data is not None:\n",
    "            if not isinstance(data, np.ndarray):\n",
    "                raise TypeError(f'{type(data)} 은(는) 지원하지 않습니다.')        \n",
    "                \n",
    "        self.data = data\n",
    "        self.name = name\n",
    "        self.grad = None\n",
    "        self.creator = None\n",
    "        self.generation = 0\n",
    "    \n",
    "    @property\n",
    "    def ndim(self):\n",
    "        return self.data.ndim\n",
    "    \n",
    "    @property\n",
    "    def size(self):\n",
    "        return self.data.size\n",
    "    \n",
    "    @property\n",
    "    def dtype(self):\n",
    "        return self.data.dtype\n",
    "    \n",
    "    @property\n",
    "    def shape(self):\n",
    "        return self.data.shape\n",
    "    \n",
    "    def __len__(self):\n",
    "        return len(self.data)\n",
    "    def __repr__(self):\n",
    "        if self.data is None:\n",
    "            return 'vairable(None)'\n",
    "        \n",
    "        p = str(self.data).replace('\\n', '\\n'+ ' '*9)\n",
    "        return 'variable(' + p + ')'\n",
    "    \n",
    "    def __mul__(self, other):\n",
    "        return mul(self, othe)\n",
    "    \n",
    "    def __add__(self, other):\n",
    "        return add(self, other)\n",
    "    \n",
    "\n",
    "    def set_creator(self, func):\n",
    "        self.creator = func\n",
    "        self.generation = func.generation + 1\n",
    "    \n",
    "    def backward(self, retain_grad = False):\n",
    "    \n",
    "        if self.grad is None:\n",
    "            self.grad = np.ones_like(self.data)\n",
    "            \n",
    "        funcs = []\n",
    "        seen_set = set()\n",
    "        \n",
    "        def add_func(f):\n",
    "            if  f not in seen_set:\n",
    "                funcs.append(f)\n",
    "                seen_set.add(f)\n",
    "                funcs.sort(key = lambda x : x.generation)\n",
    "                \n",
    "        add_func(self.creator)        \n",
    "        while funcs:\n",
    "            f = funcs.pop()\n",
    "            gys = [output().grad for output in f.outputs]\n",
    "            gxs = f.backward(*gys)\n",
    "            if not isinstance(gxs, tuple):\n",
    "                gxs = (gxs, )\n",
    "            \n",
    "            for x, gx in zip(f.inputs, gxs):\n",
    "                \n",
    "                if x.grad is None: \n",
    "                    x.grad = gx\n",
    "                    \n",
    "                else:\n",
    "                    x.grad = x.grad + gx\n",
    "                    \n",
    "                if x.creator is not None:\n",
    "                    add_func(x.creator)\n",
    "                    \n",
    "                    \n",
    "        \n",
    "            if not  retain_grad:\n",
    "                for y in f.outputs:\n",
    "                    y().grad = None #y 는 약한 참조(weakref)"
   ]
  },
  {
   "cell_type": "code",
   "execution_count": null,
   "metadata": {},
   "outputs": [],
   "source": [
    "### 연산자 *를 오버로드 하였습니다. 곱셈의 특수 메서드는 __mul__(self, other) 입니다."
   ]
  },
  {
   "cell_type": "code",
   "execution_count": 43,
   "metadata": {},
   "outputs": [
    {
     "name": "stdout",
     "output_type": "stream",
     "text": [
      "variable(6.0)\n"
     ]
    }
   ],
   "source": [
    "a = Variable(np.array(3.0))\n",
    "b = Variable(np.array(2.0))\n",
    "y  = a * b\n",
    "print(y)"
   ]
  },
  {
   "cell_type": "markdown",
   "metadata": {},
   "source": [
    "#\n",
    "- 위의 예에서 a*b 가 실행되면 먼저 인스턴스 a 의 특수 메서드인  __mul__이  호출 됩니다. 그런데 만약 a에 __mul__ 메서드가 구현되어 있지 않으면 인스턴스 b의 * 연산자 특수 메서드가 호출 됩니다. 이 경우 b는 * 연산자의 오른쪽에 위치하기 때문에 __mul__이 아닌 __rmul__이라는 특수 메서드가 호출됩니다."
   ]
  },
  {
   "cell_type": "markdown",
   "metadata": {},
   "source": [
    "## + 연산자도 함께 오버로드 하겠습니다."
   ]
  },
  {
   "cell_type": "code",
   "execution_count": 45,
   "metadata": {},
   "outputs": [
    {
     "ename": "NameError",
     "evalue": "name 'othe' is not defined",
     "output_type": "error",
     "traceback": [
      "\u001b[1;31m---------------------------------------------------------------------------\u001b[0m",
      "\u001b[1;31mNameError\u001b[0m                                 Traceback (most recent call last)",
      "\u001b[1;32m<ipython-input-45-2ecfd6a7c87c>\u001b[0m in \u001b[0;36m<module>\u001b[1;34m\u001b[0m\n\u001b[0;32m      3\u001b[0m \u001b[0mc\u001b[0m \u001b[1;33m=\u001b[0m \u001b[0mVariable\u001b[0m\u001b[1;33m(\u001b[0m\u001b[0mnp\u001b[0m\u001b[1;33m.\u001b[0m\u001b[0marray\u001b[0m\u001b[1;33m(\u001b[0m\u001b[1;36m1.0\u001b[0m\u001b[1;33m)\u001b[0m\u001b[1;33m)\u001b[0m\u001b[1;33m\u001b[0m\u001b[1;33m\u001b[0m\u001b[0m\n\u001b[0;32m      4\u001b[0m \u001b[1;33m\u001b[0m\u001b[0m\n\u001b[1;32m----> 5\u001b[1;33m \u001b[0my\u001b[0m \u001b[1;33m=\u001b[0m \u001b[0ma\u001b[0m \u001b[1;33m*\u001b[0m \u001b[0mb\u001b[0m \u001b[1;33m+\u001b[0m \u001b[0mc\u001b[0m\u001b[1;33m\u001b[0m\u001b[1;33m\u001b[0m\u001b[0m\n\u001b[0m\u001b[0;32m      6\u001b[0m \u001b[0my\u001b[0m\u001b[1;33m.\u001b[0m\u001b[0mbackward\u001b[0m\u001b[1;33m(\u001b[0m\u001b[1;33m)\u001b[0m\u001b[1;33m\u001b[0m\u001b[1;33m\u001b[0m\u001b[0m\n\u001b[0;32m      7\u001b[0m \u001b[1;33m\u001b[0m\u001b[0m\n",
      "\u001b[1;32m<ipython-input-44-e3a0caee939f>\u001b[0m in \u001b[0;36m__mul__\u001b[1;34m(self, other)\u001b[0m\n\u001b[0;32m     38\u001b[0m \u001b[1;33m\u001b[0m\u001b[0m\n\u001b[0;32m     39\u001b[0m     \u001b[1;32mdef\u001b[0m \u001b[0m__mul__\u001b[0m\u001b[1;33m(\u001b[0m\u001b[0mself\u001b[0m\u001b[1;33m,\u001b[0m \u001b[0mother\u001b[0m\u001b[1;33m)\u001b[0m\u001b[1;33m:\u001b[0m\u001b[1;33m\u001b[0m\u001b[1;33m\u001b[0m\u001b[0m\n\u001b[1;32m---> 40\u001b[1;33m         \u001b[1;32mreturn\u001b[0m \u001b[0mmul\u001b[0m\u001b[1;33m(\u001b[0m\u001b[0mself\u001b[0m\u001b[1;33m,\u001b[0m \u001b[0mothe\u001b[0m\u001b[1;33m)\u001b[0m\u001b[1;33m\u001b[0m\u001b[1;33m\u001b[0m\u001b[0m\n\u001b[0m\u001b[0;32m     41\u001b[0m \u001b[1;33m\u001b[0m\u001b[0m\n\u001b[0;32m     42\u001b[0m     \u001b[1;32mdef\u001b[0m \u001b[0m__add__\u001b[0m\u001b[1;33m(\u001b[0m\u001b[0mself\u001b[0m\u001b[1;33m,\u001b[0m \u001b[0mother\u001b[0m\u001b[1;33m)\u001b[0m\u001b[1;33m:\u001b[0m\u001b[1;33m\u001b[0m\u001b[1;33m\u001b[0m\u001b[0m\n",
      "\u001b[1;31mNameError\u001b[0m: name 'othe' is not defined"
     ]
    }
   ],
   "source": [
    "a = Variable(np.array(3.0))\n",
    "b = Variable(np.array(2.0))\n",
    "c = Variable(np.array(1.0))\n",
    "\n",
    "y = a * b + c\n",
    "y.backward()\n",
    "\n",
    "print(y)\n",
    "print(a.grad)\n",
    "print(b.grad)"
   ]
  },
  {
   "cell_type": "code",
   "execution_count": null,
   "metadata": {},
   "outputs": [],
   "source": []
  }
 ],
 "metadata": {
  "kernelspec": {
   "display_name": "Python 3",
   "language": "python",
   "name": "python3"
  },
  "language_info": {
   "codemirror_mode": {
    "name": "ipython",
    "version": 3
   },
   "file_extension": ".py",
   "mimetype": "text/x-python",
   "name": "python",
   "nbconvert_exporter": "python",
   "pygments_lexer": "ipython3",
   "version": "3.7.4"
  }
 },
 "nbformat": 4,
 "nbformat_minor": 2
}
